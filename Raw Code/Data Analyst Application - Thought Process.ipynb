{
 "cells": [
  {
   "cell_type": "code",
   "execution_count": 85,
   "id": "e1a800eb",
   "metadata": {
    "tags": [
     "hide-cell"
    ]
   },
   "outputs": [],
   "source": [
    "library(jsonlite)\n",
    "library(tidyverse)\n",
    "\n",
    "setwd('C:/Users/Deanna/Documents/Job Stuff/Data Analyst')"
   ]
  },
  {
   "cell_type": "markdown",
   "id": "f0b0ddfe",
   "metadata": {},
   "source": [
    "https://db.rstudio.com/getting-started/database-queries/#:~:text=To%20use%20SQL%2C%20open%20an,in%20the%20code%20chunk%20options."
   ]
  },
  {
   "cell_type": "markdown",
   "id": "766ddf6e",
   "metadata": {},
   "source": [
    "# Thought Process\n",
    "\n",
    "Hey there!\n",
    "\n",
    "This notebook is a documentation of my thought process as I went through this exercise. Feel free to follow along while I explain how I got from point A to point B (or C).\n",
    "\n",
    "After reading through the exercise, here's my first brain dump:\n",
    "- JSON files need to be converted to CSV\n",
    "- The ER diagram will probably be straightforward with the join between reciepts and users (via userID)\n",
    "- I need to mess with the data to figure out how to join brands to the reciepts table since the column names and descriptions aren't making the join obvious\n",
    "- The questions all come in pairs and two can be answered at once in SQL with the use of a temp table, though I would prefer using R for the visualizations but I can do it in SQL. (I really wanted to use ggplot2 ಥ_ಥ )\n",
    "- for quality issues, we're probably talking looking for outliers, expected values, etc etc. Lots of boxplots for this part.\n",
    "- from there the write-up should be pretty ezpz!"
   ]
  },
  {
   "cell_type": "markdown",
   "id": "96449e28",
   "metadata": {},
   "source": [
    "## Part 1: Get Familiar with the Data and make an ER Diagram\n",
    "\n",
    "To start, I need to see the data! JSON files are gross imo, but I can turn them into data frames in R and fiddle with them a bit."
   ]
  },
  {
   "cell_type": "code",
   "execution_count": 122,
   "id": "c206ff36",
   "metadata": {
    "scrolled": true
   },
   "outputs": [
    {
     "name": "stderr",
     "output_type": "stream",
     "text": [
      "opening fileconnectionoldClass input connection.\n",
      "\n"
     ]
    },
    {
     "name": "stdout",
     "output_type": "stream",
     "text": [
      "\r",
      " Found 500 records...\r",
      " Found 1000 records...\r",
      " Found 1167 records...\r",
      " Imported 1167 records. Simplifying...\n"
     ]
    },
    {
     "name": "stderr",
     "output_type": "stream",
     "text": [
      "closing fileconnectionoldClass input connection.\n",
      "\n",
      "opening fileconnectionoldClass input connection.\n",
      "\n"
     ]
    },
    {
     "name": "stdout",
     "output_type": "stream",
     "text": [
      "\r",
      " Found 500 records...\r",
      " Found 1000 records...\r",
      " Found 1119 records...\r",
      " Imported 1119 records. Simplifying...\n"
     ]
    },
    {
     "name": "stderr",
     "output_type": "stream",
     "text": [
      "closing fileconnectionoldClass input connection.\n",
      "\n",
      "opening fileconnectionoldClass input connection.\n",
      "\n"
     ]
    },
    {
     "name": "stdout",
     "output_type": "stream",
     "text": [
      "\r",
      " Found 495 records...\r",
      " Imported 495 records. Simplifying...\n"
     ]
    },
    {
     "name": "stderr",
     "output_type": "stream",
     "text": [
      "closing fileconnectionoldClass input connection.\n",
      "\n"
     ]
    }
   ],
   "source": [
    "brands <- stream_in(file(\"brands.json\"))\n",
    "receipts <- stream_in(file(\"receipts.json\"))\n",
    "users <- stream_in(file(\"users.json\"))"
   ]
  },
  {
   "cell_type": "code",
   "execution_count": 116,
   "id": "2a75e62a",
   "metadata": {},
   "outputs": [
    {
     "data": {
      "text/html": [
       "<table class=\"dataframe\">\n",
       "<caption>A tibble: 6 × 9</caption>\n",
       "<thead>\n",
       "\t<tr><th scope=col>_id</th><th scope=col>barcode</th><th scope=col>category</th><th scope=col>categoryCode</th><th scope=col>$id</th><th scope=col>$ref</th><th scope=col>name</th><th scope=col>topBrand</th><th scope=col>brandCode</th></tr>\n",
       "\t<tr><th scope=col>&lt;chr&gt;</th><th scope=col>&lt;chr&gt;</th><th scope=col>&lt;chr&gt;</th><th scope=col>&lt;chr&gt;</th><th scope=col>&lt;chr&gt;</th><th scope=col>&lt;chr&gt;</th><th scope=col>&lt;chr&gt;</th><th scope=col>&lt;lgl&gt;</th><th scope=col>&lt;chr&gt;</th></tr>\n",
       "</thead>\n",
       "<tbody>\n",
       "\t<tr><td>601ac115be37ce2ead437551</td><td>511111019862</td><td>Baking        </td><td>BAKING          </td><td>601ac114be37ce2ead437550</td><td>Cogs</td><td>test brand @1612366101024</td><td>FALSE</td><td>NA                           </td></tr>\n",
       "\t<tr><td>601c5460be37ce2ead43755f</td><td>511111519928</td><td>Beverages     </td><td>BEVERAGES       </td><td>5332f5fbe4b03c9a25efd0ba</td><td>Cogs</td><td>Starbucks                </td><td>FALSE</td><td>STARBUCKS                    </td></tr>\n",
       "\t<tr><td>601ac142be37ce2ead43755d</td><td>511111819905</td><td>Baking        </td><td>BAKING          </td><td>601ac142be37ce2ead437559</td><td>Cogs</td><td>test brand @1612366146176</td><td>FALSE</td><td>TEST BRANDCODE @1612366146176</td></tr>\n",
       "\t<tr><td>601ac142be37ce2ead43755a</td><td>511111519874</td><td>Baking        </td><td>BAKING          </td><td>601ac142be37ce2ead437559</td><td>Cogs</td><td>test brand @1612366146051</td><td>FALSE</td><td>TEST BRANDCODE @1612366146051</td></tr>\n",
       "\t<tr><td>601ac142be37ce2ead43755e</td><td>511111319917</td><td>Candy &amp; Sweets</td><td>CANDY_AND_SWEETS</td><td>5332fa12e4b03c9a25efd1e7</td><td>Cogs</td><td>test brand @1612366146827</td><td>FALSE</td><td>TEST BRANDCODE @1612366146827</td></tr>\n",
       "\t<tr><td>601ac142be37ce2ead43755b</td><td>511111719885</td><td>Baking        </td><td>BAKING          </td><td>601ac142be37ce2ead437559</td><td>Cogs</td><td>test brand @1612366146091</td><td>FALSE</td><td>TEST BRANDCODE @1612366146091</td></tr>\n",
       "</tbody>\n",
       "</table>\n"
      ],
      "text/latex": [
       "A tibble: 6 × 9\n",
       "\\begin{tabular}{lllllllll}\n",
       " \\_id & barcode & category & categoryCode & \\$id & \\$ref & name & topBrand & brandCode\\\\\n",
       " <chr> & <chr> & <chr> & <chr> & <chr> & <chr> & <chr> & <lgl> & <chr>\\\\\n",
       "\\hline\n",
       "\t 601ac115be37ce2ead437551 & 511111019862 & Baking         & BAKING           & 601ac114be37ce2ead437550 & Cogs & test brand @1612366101024 & FALSE & NA                           \\\\\n",
       "\t 601c5460be37ce2ead43755f & 511111519928 & Beverages      & BEVERAGES        & 5332f5fbe4b03c9a25efd0ba & Cogs & Starbucks                 & FALSE & STARBUCKS                    \\\\\n",
       "\t 601ac142be37ce2ead43755d & 511111819905 & Baking         & BAKING           & 601ac142be37ce2ead437559 & Cogs & test brand @1612366146176 & FALSE & TEST BRANDCODE @1612366146176\\\\\n",
       "\t 601ac142be37ce2ead43755a & 511111519874 & Baking         & BAKING           & 601ac142be37ce2ead437559 & Cogs & test brand @1612366146051 & FALSE & TEST BRANDCODE @1612366146051\\\\\n",
       "\t 601ac142be37ce2ead43755e & 511111319917 & Candy \\& Sweets & CANDY\\_AND\\_SWEETS & 5332fa12e4b03c9a25efd1e7 & Cogs & test brand @1612366146827 & FALSE & TEST BRANDCODE @1612366146827\\\\\n",
       "\t 601ac142be37ce2ead43755b & 511111719885 & Baking         & BAKING           & 601ac142be37ce2ead437559 & Cogs & test brand @1612366146091 & FALSE & TEST BRANDCODE @1612366146091\\\\\n",
       "\\end{tabular}\n"
      ],
      "text/markdown": [
       "\n",
       "A tibble: 6 × 9\n",
       "\n",
       "| _id &lt;chr&gt; | barcode &lt;chr&gt; | category &lt;chr&gt; | categoryCode &lt;chr&gt; | $id &lt;chr&gt; | $ref &lt;chr&gt; | name &lt;chr&gt; | topBrand &lt;lgl&gt; | brandCode &lt;chr&gt; |\n",
       "|---|---|---|---|---|---|---|---|---|\n",
       "| 601ac115be37ce2ead437551 | 511111019862 | Baking         | BAKING           | 601ac114be37ce2ead437550 | Cogs | test brand @1612366101024 | FALSE | NA                            |\n",
       "| 601c5460be37ce2ead43755f | 511111519928 | Beverages      | BEVERAGES        | 5332f5fbe4b03c9a25efd0ba | Cogs | Starbucks                 | FALSE | STARBUCKS                     |\n",
       "| 601ac142be37ce2ead43755d | 511111819905 | Baking         | BAKING           | 601ac142be37ce2ead437559 | Cogs | test brand @1612366146176 | FALSE | TEST BRANDCODE @1612366146176 |\n",
       "| 601ac142be37ce2ead43755a | 511111519874 | Baking         | BAKING           | 601ac142be37ce2ead437559 | Cogs | test brand @1612366146051 | FALSE | TEST BRANDCODE @1612366146051 |\n",
       "| 601ac142be37ce2ead43755e | 511111319917 | Candy &amp; Sweets | CANDY_AND_SWEETS | 5332fa12e4b03c9a25efd1e7 | Cogs | test brand @1612366146827 | FALSE | TEST BRANDCODE @1612366146827 |\n",
       "| 601ac142be37ce2ead43755b | 511111719885 | Baking         | BAKING           | 601ac142be37ce2ead437559 | Cogs | test brand @1612366146091 | FALSE | TEST BRANDCODE @1612366146091 |\n",
       "\n"
      ],
      "text/plain": [
       "  _id                      barcode      category       categoryCode    \n",
       "1 601ac115be37ce2ead437551 511111019862 Baking         BAKING          \n",
       "2 601c5460be37ce2ead43755f 511111519928 Beverages      BEVERAGES       \n",
       "3 601ac142be37ce2ead43755d 511111819905 Baking         BAKING          \n",
       "4 601ac142be37ce2ead43755a 511111519874 Baking         BAKING          \n",
       "5 601ac142be37ce2ead43755e 511111319917 Candy & Sweets CANDY_AND_SWEETS\n",
       "6 601ac142be37ce2ead43755b 511111719885 Baking         BAKING          \n",
       "  $id                      $ref name                      topBrand\n",
       "1 601ac114be37ce2ead437550 Cogs test brand @1612366101024 FALSE   \n",
       "2 5332f5fbe4b03c9a25efd0ba Cogs Starbucks                 FALSE   \n",
       "3 601ac142be37ce2ead437559 Cogs test brand @1612366146176 FALSE   \n",
       "4 601ac142be37ce2ead437559 Cogs test brand @1612366146051 FALSE   \n",
       "5 5332fa12e4b03c9a25efd1e7 Cogs test brand @1612366146827 FALSE   \n",
       "6 601ac142be37ce2ead437559 Cogs test brand @1612366146091 FALSE   \n",
       "  brandCode                    \n",
       "1 NA                           \n",
       "2 STARBUCKS                    \n",
       "3 TEST BRANDCODE @1612366146176\n",
       "4 TEST BRANDCODE @1612366146051\n",
       "5 TEST BRANDCODE @1612366146827\n",
       "6 TEST BRANDCODE @1612366146091"
      ]
     },
     "metadata": {},
     "output_type": "display_data"
    }
   ],
   "source": [
    "brands$'_id' <- flatten(brands$'_id')\n",
    "brands$cpg$`$id` <- flatten(brands$cpg$`$id`)\n",
    "\n",
    "brands <- brands %>%\n",
    "            as_tibble() %>%\n",
    "            unnest(cpg)\n",
    "\n",
    "brands$'_id' <- as.character(brands$'_id')\n",
    "brands$`$id` <- as.character(brands$`$id`)\n",
    "\n",
    "head(brands)"
   ]
  },
  {
   "cell_type": "code",
   "execution_count": 123,
   "id": "94166d85",
   "metadata": {},
   "outputs": [
    {
     "name": "stderr",
     "output_type": "stream",
     "text": [
      "\u001b[1m\u001b[22mNew names:\n",
      "\u001b[36m•\u001b[39m `pointsEarned` -> `pointsEarned...9`\n",
      "\u001b[36m•\u001b[39m `pointsEarned` -> `pointsEarned...38`\n"
     ]
    },
    {
     "data": {
      "text/html": [
       "<table class=\"dataframe\">\n",
       "<caption>A tibble: 6 × 48</caption>\n",
       "<thead>\n",
       "\t<tr><th scope=col>_id</th><th scope=col>bonusPointsEarned</th><th scope=col>bonusPointsEarnedReason</th><th scope=col>createDate</th><th scope=col>dateScanned</th><th scope=col>finishedDate</th><th scope=col>modifyDate</th><th scope=col>pointsAwardedDate</th><th scope=col>pointsEarned...9</th><th scope=col>purchaseDate</th><th scope=col>⋯</th><th scope=col>targetPrice</th><th scope=col>competitiveProduct</th><th scope=col>originalFinalPrice</th><th scope=col>originalMetaBriteItemPrice</th><th scope=col>deleted</th><th scope=col>priceAfterCoupon</th><th scope=col>metabriteCampaignId</th><th scope=col>rewardsReceiptStatus</th><th scope=col>totalSpent</th><th scope=col>userId</th></tr>\n",
       "\t<tr><th scope=col>&lt;chr&gt;</th><th scope=col>&lt;int&gt;</th><th scope=col>&lt;chr&gt;</th><th scope=col>&lt;dttm&gt;</th><th scope=col>&lt;dttm&gt;</th><th scope=col>&lt;dttm&gt;</th><th scope=col>&lt;dttm&gt;</th><th scope=col>&lt;dttm&gt;</th><th scope=col>&lt;chr&gt;</th><th scope=col>&lt;dttm&gt;</th><th scope=col>⋯</th><th scope=col>&lt;chr&gt;</th><th scope=col>&lt;lgl&gt;</th><th scope=col>&lt;chr&gt;</th><th scope=col>&lt;chr&gt;</th><th scope=col>&lt;lgl&gt;</th><th scope=col>&lt;chr&gt;</th><th scope=col>&lt;chr&gt;</th><th scope=col>&lt;chr&gt;</th><th scope=col>&lt;chr&gt;</th><th scope=col>&lt;chr&gt;</th></tr>\n",
       "</thead>\n",
       "<tbody>\n",
       "\t<tr><td>5ff1e1eb0a720f0523000575</td><td>500</td><td>Receipt number 2 completed, bonus point schedule DEFAULT (5cefdcacf3693e0b50e83a36)</td><td>2021-01-03 09:25:31</td><td>2021-01-03 09:25:31</td><td>2021-01-03 09:25:31</td><td>2021-01-03 09:25:36</td><td>2021-01-03 09:25:31</td><td>500.0</td><td>2021-01-02 18:00:00</td><td>⋯</td><td>NA</td><td>NA</td><td>NA</td><td>NA</td><td>NA</td><td>NA</td><td>NA</td><td>FINISHED</td><td>26.00</td><td>5ff1e1eacfcf6c399c274ae6</td></tr>\n",
       "\t<tr><td>5ff1e1bb0a720f052300056b</td><td>150</td><td>Receipt number 5 completed, bonus point schedule DEFAULT (5cefdcacf3693e0b50e83a36)</td><td>2021-01-03 09:24:43</td><td>2021-01-03 09:24:43</td><td>2021-01-03 09:24:43</td><td>2021-01-03 09:24:48</td><td>2021-01-03 09:24:43</td><td>150.0</td><td>2021-01-02 09:24:43</td><td>⋯</td><td>NA</td><td>NA</td><td>NA</td><td>NA</td><td>NA</td><td>NA</td><td>NA</td><td>FINISHED</td><td>11.00</td><td>5ff1e194b6a9d73a3a9f1052</td></tr>\n",
       "\t<tr><td>5ff1e1bb0a720f052300056b</td><td>150</td><td>Receipt number 5 completed, bonus point schedule DEFAULT (5cefdcacf3693e0b50e83a36)</td><td>2021-01-03 09:24:43</td><td>2021-01-03 09:24:43</td><td>2021-01-03 09:24:43</td><td>2021-01-03 09:24:48</td><td>2021-01-03 09:24:43</td><td>150.0</td><td>2021-01-02 09:24:43</td><td>⋯</td><td>NA</td><td>NA</td><td>NA</td><td>NA</td><td>NA</td><td>NA</td><td>NA</td><td>FINISHED</td><td>11.00</td><td>5ff1e194b6a9d73a3a9f1052</td></tr>\n",
       "\t<tr><td>5ff1e1f10a720f052300057a</td><td>  5</td><td>All-receipts receipt bonus                                                         </td><td>2021-01-03 09:25:37</td><td>2021-01-03 09:25:37</td><td>NA</td><td>2021-01-03 09:25:42</td><td>NA</td><td>5    </td><td>2021-01-02 18:00:00</td><td>⋯</td><td>NA</td><td>NA</td><td>NA</td><td>NA</td><td>NA</td><td>NA</td><td>NA</td><td>REJECTED</td><td>10.00</td><td>5ff1e1f1cfcf6c399c274b0b</td></tr>\n",
       "\t<tr><td>5ff1e1ee0a7214ada100056f</td><td>  5</td><td>All-receipts receipt bonus                                                         </td><td>2021-01-03 09:25:34</td><td>2021-01-03 09:25:34</td><td>2021-01-03 09:25:34</td><td>2021-01-03 09:25:39</td><td>2021-01-03 09:25:34</td><td>5.0  </td><td>2021-01-02 18:00:00</td><td>⋯</td><td>NA</td><td>NA</td><td>NA</td><td>NA</td><td>NA</td><td>NA</td><td>NA</td><td>FINISHED</td><td>28.00</td><td>5ff1e1eacfcf6c399c274ae6</td></tr>\n",
       "\t<tr><td>5ff1e1d20a7214ada1000561</td><td>  5</td><td>All-receipts receipt bonus                                                         </td><td>2021-01-03 09:25:06</td><td>2021-01-03 09:25:06</td><td>2021-01-03 09:25:11</td><td>2021-01-03 09:25:11</td><td>2021-01-03 09:25:06</td><td>5.0  </td><td>2021-01-02 09:25:06</td><td>⋯</td><td>NA</td><td>NA</td><td>NA</td><td>NA</td><td>NA</td><td>NA</td><td>NA</td><td>FINISHED</td><td>1.00 </td><td>5ff1e194b6a9d73a3a9f1052</td></tr>\n",
       "</tbody>\n",
       "</table>\n"
      ],
      "text/latex": [
       "A tibble: 6 × 48\n",
       "\\begin{tabular}{lllllllllllllllllllll}\n",
       " \\_id & bonusPointsEarned & bonusPointsEarnedReason & createDate & dateScanned & finishedDate & modifyDate & pointsAwardedDate & pointsEarned...9 & purchaseDate & ⋯ & targetPrice & competitiveProduct & originalFinalPrice & originalMetaBriteItemPrice & deleted & priceAfterCoupon & metabriteCampaignId & rewardsReceiptStatus & totalSpent & userId\\\\\n",
       " <chr> & <int> & <chr> & <dttm> & <dttm> & <dttm> & <dttm> & <dttm> & <chr> & <dttm> & ⋯ & <chr> & <lgl> & <chr> & <chr> & <lgl> & <chr> & <chr> & <chr> & <chr> & <chr>\\\\\n",
       "\\hline\n",
       "\t 5ff1e1eb0a720f0523000575 & 500 & Receipt number 2 completed, bonus point schedule DEFAULT (5cefdcacf3693e0b50e83a36) & 2021-01-03 09:25:31 & 2021-01-03 09:25:31 & 2021-01-03 09:25:31 & 2021-01-03 09:25:36 & 2021-01-03 09:25:31 & 500.0 & 2021-01-02 18:00:00 & ⋯ & NA & NA & NA & NA & NA & NA & NA & FINISHED & 26.00 & 5ff1e1eacfcf6c399c274ae6\\\\\n",
       "\t 5ff1e1bb0a720f052300056b & 150 & Receipt number 5 completed, bonus point schedule DEFAULT (5cefdcacf3693e0b50e83a36) & 2021-01-03 09:24:43 & 2021-01-03 09:24:43 & 2021-01-03 09:24:43 & 2021-01-03 09:24:48 & 2021-01-03 09:24:43 & 150.0 & 2021-01-02 09:24:43 & ⋯ & NA & NA & NA & NA & NA & NA & NA & FINISHED & 11.00 & 5ff1e194b6a9d73a3a9f1052\\\\\n",
       "\t 5ff1e1bb0a720f052300056b & 150 & Receipt number 5 completed, bonus point schedule DEFAULT (5cefdcacf3693e0b50e83a36) & 2021-01-03 09:24:43 & 2021-01-03 09:24:43 & 2021-01-03 09:24:43 & 2021-01-03 09:24:48 & 2021-01-03 09:24:43 & 150.0 & 2021-01-02 09:24:43 & ⋯ & NA & NA & NA & NA & NA & NA & NA & FINISHED & 11.00 & 5ff1e194b6a9d73a3a9f1052\\\\\n",
       "\t 5ff1e1f10a720f052300057a &   5 & All-receipts receipt bonus                                                          & 2021-01-03 09:25:37 & 2021-01-03 09:25:37 & NA & 2021-01-03 09:25:42 & NA & 5     & 2021-01-02 18:00:00 & ⋯ & NA & NA & NA & NA & NA & NA & NA & REJECTED & 10.00 & 5ff1e1f1cfcf6c399c274b0b\\\\\n",
       "\t 5ff1e1ee0a7214ada100056f &   5 & All-receipts receipt bonus                                                          & 2021-01-03 09:25:34 & 2021-01-03 09:25:34 & 2021-01-03 09:25:34 & 2021-01-03 09:25:39 & 2021-01-03 09:25:34 & 5.0   & 2021-01-02 18:00:00 & ⋯ & NA & NA & NA & NA & NA & NA & NA & FINISHED & 28.00 & 5ff1e1eacfcf6c399c274ae6\\\\\n",
       "\t 5ff1e1d20a7214ada1000561 &   5 & All-receipts receipt bonus                                                          & 2021-01-03 09:25:06 & 2021-01-03 09:25:06 & 2021-01-03 09:25:11 & 2021-01-03 09:25:11 & 2021-01-03 09:25:06 & 5.0   & 2021-01-02 09:25:06 & ⋯ & NA & NA & NA & NA & NA & NA & NA & FINISHED & 1.00  & 5ff1e194b6a9d73a3a9f1052\\\\\n",
       "\\end{tabular}\n"
      ],
      "text/markdown": [
       "\n",
       "A tibble: 6 × 48\n",
       "\n",
       "| _id &lt;chr&gt; | bonusPointsEarned &lt;int&gt; | bonusPointsEarnedReason &lt;chr&gt; | createDate &lt;dttm&gt; | dateScanned &lt;dttm&gt; | finishedDate &lt;dttm&gt; | modifyDate &lt;dttm&gt; | pointsAwardedDate &lt;dttm&gt; | pointsEarned...9 &lt;chr&gt; | purchaseDate &lt;dttm&gt; | ⋯ ⋯ | targetPrice &lt;chr&gt; | competitiveProduct &lt;lgl&gt; | originalFinalPrice &lt;chr&gt; | originalMetaBriteItemPrice &lt;chr&gt; | deleted &lt;lgl&gt; | priceAfterCoupon &lt;chr&gt; | metabriteCampaignId &lt;chr&gt; | rewardsReceiptStatus &lt;chr&gt; | totalSpent &lt;chr&gt; | userId &lt;chr&gt; |\n",
       "|---|---|---|---|---|---|---|---|---|---|---|---|---|---|---|---|---|---|---|---|---|\n",
       "| 5ff1e1eb0a720f0523000575 | 500 | Receipt number 2 completed, bonus point schedule DEFAULT (5cefdcacf3693e0b50e83a36) | 2021-01-03 09:25:31 | 2021-01-03 09:25:31 | 2021-01-03 09:25:31 | 2021-01-03 09:25:36 | 2021-01-03 09:25:31 | 500.0 | 2021-01-02 18:00:00 | ⋯ | NA | NA | NA | NA | NA | NA | NA | FINISHED | 26.00 | 5ff1e1eacfcf6c399c274ae6 |\n",
       "| 5ff1e1bb0a720f052300056b | 150 | Receipt number 5 completed, bonus point schedule DEFAULT (5cefdcacf3693e0b50e83a36) | 2021-01-03 09:24:43 | 2021-01-03 09:24:43 | 2021-01-03 09:24:43 | 2021-01-03 09:24:48 | 2021-01-03 09:24:43 | 150.0 | 2021-01-02 09:24:43 | ⋯ | NA | NA | NA | NA | NA | NA | NA | FINISHED | 11.00 | 5ff1e194b6a9d73a3a9f1052 |\n",
       "| 5ff1e1bb0a720f052300056b | 150 | Receipt number 5 completed, bonus point schedule DEFAULT (5cefdcacf3693e0b50e83a36) | 2021-01-03 09:24:43 | 2021-01-03 09:24:43 | 2021-01-03 09:24:43 | 2021-01-03 09:24:48 | 2021-01-03 09:24:43 | 150.0 | 2021-01-02 09:24:43 | ⋯ | NA | NA | NA | NA | NA | NA | NA | FINISHED | 11.00 | 5ff1e194b6a9d73a3a9f1052 |\n",
       "| 5ff1e1f10a720f052300057a |   5 | All-receipts receipt bonus                                                          | 2021-01-03 09:25:37 | 2021-01-03 09:25:37 | NA | 2021-01-03 09:25:42 | NA | 5     | 2021-01-02 18:00:00 | ⋯ | NA | NA | NA | NA | NA | NA | NA | REJECTED | 10.00 | 5ff1e1f1cfcf6c399c274b0b |\n",
       "| 5ff1e1ee0a7214ada100056f |   5 | All-receipts receipt bonus                                                          | 2021-01-03 09:25:34 | 2021-01-03 09:25:34 | 2021-01-03 09:25:34 | 2021-01-03 09:25:39 | 2021-01-03 09:25:34 | 5.0   | 2021-01-02 18:00:00 | ⋯ | NA | NA | NA | NA | NA | NA | NA | FINISHED | 28.00 | 5ff1e1eacfcf6c399c274ae6 |\n",
       "| 5ff1e1d20a7214ada1000561 |   5 | All-receipts receipt bonus                                                          | 2021-01-03 09:25:06 | 2021-01-03 09:25:06 | 2021-01-03 09:25:11 | 2021-01-03 09:25:11 | 2021-01-03 09:25:06 | 5.0   | 2021-01-02 09:25:06 | ⋯ | NA | NA | NA | NA | NA | NA | NA | FINISHED | 1.00  | 5ff1e194b6a9d73a3a9f1052 |\n",
       "\n"
      ],
      "text/plain": [
       "  _id                      bonusPointsEarned\n",
       "1 5ff1e1eb0a720f0523000575 500              \n",
       "2 5ff1e1bb0a720f052300056b 150              \n",
       "3 5ff1e1bb0a720f052300056b 150              \n",
       "4 5ff1e1f10a720f052300057a   5              \n",
       "5 5ff1e1ee0a7214ada100056f   5              \n",
       "6 5ff1e1d20a7214ada1000561   5              \n",
       "  bonusPointsEarnedReason                                                            \n",
       "1 Receipt number 2 completed, bonus point schedule DEFAULT (5cefdcacf3693e0b50e83a36)\n",
       "2 Receipt number 5 completed, bonus point schedule DEFAULT (5cefdcacf3693e0b50e83a36)\n",
       "3 Receipt number 5 completed, bonus point schedule DEFAULT (5cefdcacf3693e0b50e83a36)\n",
       "4 All-receipts receipt bonus                                                         \n",
       "5 All-receipts receipt bonus                                                         \n",
       "6 All-receipts receipt bonus                                                         \n",
       "  createDate          dateScanned         finishedDate       \n",
       "1 2021-01-03 09:25:31 2021-01-03 09:25:31 2021-01-03 09:25:31\n",
       "2 2021-01-03 09:24:43 2021-01-03 09:24:43 2021-01-03 09:24:43\n",
       "3 2021-01-03 09:24:43 2021-01-03 09:24:43 2021-01-03 09:24:43\n",
       "4 2021-01-03 09:25:37 2021-01-03 09:25:37 <NA>               \n",
       "5 2021-01-03 09:25:34 2021-01-03 09:25:34 2021-01-03 09:25:34\n",
       "6 2021-01-03 09:25:06 2021-01-03 09:25:06 2021-01-03 09:25:11\n",
       "  modifyDate          pointsAwardedDate   pointsEarned...9 purchaseDate       \n",
       "1 2021-01-03 09:25:36 2021-01-03 09:25:31 500.0            2021-01-02 18:00:00\n",
       "2 2021-01-03 09:24:48 2021-01-03 09:24:43 150.0            2021-01-02 09:24:43\n",
       "3 2021-01-03 09:24:48 2021-01-03 09:24:43 150.0            2021-01-02 09:24:43\n",
       "4 2021-01-03 09:25:42 <NA>                5                2021-01-02 18:00:00\n",
       "5 2021-01-03 09:25:39 2021-01-03 09:25:34 5.0              2021-01-02 18:00:00\n",
       "6 2021-01-03 09:25:11 2021-01-03 09:25:06 5.0              2021-01-02 09:25:06\n",
       "  ⋯ targetPrice competitiveProduct originalFinalPrice\n",
       "1 ⋯ NA          NA                 NA                \n",
       "2 ⋯ NA          NA                 NA                \n",
       "3 ⋯ NA          NA                 NA                \n",
       "4 ⋯ NA          NA                 NA                \n",
       "5 ⋯ NA          NA                 NA                \n",
       "6 ⋯ NA          NA                 NA                \n",
       "  originalMetaBriteItemPrice deleted priceAfterCoupon metabriteCampaignId\n",
       "1 NA                         NA      NA               NA                 \n",
       "2 NA                         NA      NA               NA                 \n",
       "3 NA                         NA      NA               NA                 \n",
       "4 NA                         NA      NA               NA                 \n",
       "5 NA                         NA      NA               NA                 \n",
       "6 NA                         NA      NA               NA                 \n",
       "  rewardsReceiptStatus totalSpent userId                  \n",
       "1 FINISHED             26.00      5ff1e1eacfcf6c399c274ae6\n",
       "2 FINISHED             11.00      5ff1e194b6a9d73a3a9f1052\n",
       "3 FINISHED             11.00      5ff1e194b6a9d73a3a9f1052\n",
       "4 REJECTED             10.00      5ff1e1f1cfcf6c399c274b0b\n",
       "5 FINISHED             28.00      5ff1e1eacfcf6c399c274ae6\n",
       "6 FINISHED             1.00       5ff1e194b6a9d73a3a9f1052"
      ]
     },
     "metadata": {},
     "output_type": "display_data"
    }
   ],
   "source": [
    "receipts$'_id' <- flatten(receipts$'_id')\n",
    "receipts$'_id' <- as.character(receipts$'_id')\n",
    "\n",
    "receipts <- receipts %>%\n",
    "            as_tibble() %>%\n",
    "            unnest(rewardsReceiptItemList,names_repair = \"unique\")\n",
    "\n",
    "head(receipts)"
   ]
  },
  {
   "cell_type": "code",
   "execution_count": 101,
   "id": "2a078e32",
   "metadata": {},
   "outputs": [
    {
     "data": {
      "text/html": [
       "<table class=\"dataframe\">\n",
       "<caption>A tibble: 6 × 7</caption>\n",
       "<thead>\n",
       "\t<tr><th scope=col>_id</th><th scope=col>active</th><th scope=col>createdDate</th><th scope=col>lastLogin</th><th scope=col>role</th><th scope=col>signUpSource</th><th scope=col>state</th></tr>\n",
       "\t<tr><th scope=col>&lt;list&gt;</th><th scope=col>&lt;lgl&gt;</th><th scope=col>&lt;dttm&gt;</th><th scope=col>&lt;dttm&gt;</th><th scope=col>&lt;chr&gt;</th><th scope=col>&lt;chr&gt;</th><th scope=col>&lt;chr&gt;</th></tr>\n",
       "</thead>\n",
       "<tbody>\n",
       "\t<tr><td>5ff1e194b6a9d73a3a9f1052</td><td>TRUE</td><td>2021-01-03 09:24:04</td><td>2021-01-03 09:25:37</td><td>consumer</td><td>Email</td><td>WI</td></tr>\n",
       "\t<tr><td>5ff1e194b6a9d73a3a9f1052</td><td>TRUE</td><td>2021-01-03 09:24:04</td><td>2021-01-03 09:25:37</td><td>consumer</td><td>Email</td><td>WI</td></tr>\n",
       "\t<tr><td>5ff1e194b6a9d73a3a9f1052</td><td>TRUE</td><td>2021-01-03 09:24:04</td><td>2021-01-03 09:25:37</td><td>consumer</td><td>Email</td><td>WI</td></tr>\n",
       "\t<tr><td>5ff1e1eacfcf6c399c274ae6</td><td>TRUE</td><td>2021-01-03 09:25:30</td><td>2021-01-03 09:25:30</td><td>consumer</td><td>Email</td><td>WI</td></tr>\n",
       "\t<tr><td>5ff1e194b6a9d73a3a9f1052</td><td>TRUE</td><td>2021-01-03 09:24:04</td><td>2021-01-03 09:25:37</td><td>consumer</td><td>Email</td><td>WI</td></tr>\n",
       "\t<tr><td>5ff1e194b6a9d73a3a9f1052</td><td>TRUE</td><td>2021-01-03 09:24:04</td><td>2021-01-03 09:25:37</td><td>consumer</td><td>Email</td><td>WI</td></tr>\n",
       "</tbody>\n",
       "</table>\n"
      ],
      "text/latex": [
       "A tibble: 6 × 7\n",
       "\\begin{tabular}{lllllll}\n",
       " \\_id & active & createdDate & lastLogin & role & signUpSource & state\\\\\n",
       " <list> & <lgl> & <dttm> & <dttm> & <chr> & <chr> & <chr>\\\\\n",
       "\\hline\n",
       "\t 5ff1e194b6a9d73a3a9f1052 & TRUE & 2021-01-03 09:24:04 & 2021-01-03 09:25:37 & consumer & Email & WI\\\\\n",
       "\t 5ff1e194b6a9d73a3a9f1052 & TRUE & 2021-01-03 09:24:04 & 2021-01-03 09:25:37 & consumer & Email & WI\\\\\n",
       "\t 5ff1e194b6a9d73a3a9f1052 & TRUE & 2021-01-03 09:24:04 & 2021-01-03 09:25:37 & consumer & Email & WI\\\\\n",
       "\t 5ff1e1eacfcf6c399c274ae6 & TRUE & 2021-01-03 09:25:30 & 2021-01-03 09:25:30 & consumer & Email & WI\\\\\n",
       "\t 5ff1e194b6a9d73a3a9f1052 & TRUE & 2021-01-03 09:24:04 & 2021-01-03 09:25:37 & consumer & Email & WI\\\\\n",
       "\t 5ff1e194b6a9d73a3a9f1052 & TRUE & 2021-01-03 09:24:04 & 2021-01-03 09:25:37 & consumer & Email & WI\\\\\n",
       "\\end{tabular}\n"
      ],
      "text/markdown": [
       "\n",
       "A tibble: 6 × 7\n",
       "\n",
       "| _id &lt;list&gt; | active &lt;lgl&gt; | createdDate &lt;dttm&gt; | lastLogin &lt;dttm&gt; | role &lt;chr&gt; | signUpSource &lt;chr&gt; | state &lt;chr&gt; |\n",
       "|---|---|---|---|---|---|---|\n",
       "| 5ff1e194b6a9d73a3a9f1052 | TRUE | 2021-01-03 09:24:04 | 2021-01-03 09:25:37 | consumer | Email | WI |\n",
       "| 5ff1e194b6a9d73a3a9f1052 | TRUE | 2021-01-03 09:24:04 | 2021-01-03 09:25:37 | consumer | Email | WI |\n",
       "| 5ff1e194b6a9d73a3a9f1052 | TRUE | 2021-01-03 09:24:04 | 2021-01-03 09:25:37 | consumer | Email | WI |\n",
       "| 5ff1e1eacfcf6c399c274ae6 | TRUE | 2021-01-03 09:25:30 | 2021-01-03 09:25:30 | consumer | Email | WI |\n",
       "| 5ff1e194b6a9d73a3a9f1052 | TRUE | 2021-01-03 09:24:04 | 2021-01-03 09:25:37 | consumer | Email | WI |\n",
       "| 5ff1e194b6a9d73a3a9f1052 | TRUE | 2021-01-03 09:24:04 | 2021-01-03 09:25:37 | consumer | Email | WI |\n",
       "\n"
      ],
      "text/plain": [
       "  _id                      active createdDate         lastLogin          \n",
       "1 5ff1e194b6a9d73a3a9f1052 TRUE   2021-01-03 09:24:04 2021-01-03 09:25:37\n",
       "2 5ff1e194b6a9d73a3a9f1052 TRUE   2021-01-03 09:24:04 2021-01-03 09:25:37\n",
       "3 5ff1e194b6a9d73a3a9f1052 TRUE   2021-01-03 09:24:04 2021-01-03 09:25:37\n",
       "4 5ff1e1eacfcf6c399c274ae6 TRUE   2021-01-03 09:25:30 2021-01-03 09:25:30\n",
       "5 5ff1e194b6a9d73a3a9f1052 TRUE   2021-01-03 09:24:04 2021-01-03 09:25:37\n",
       "6 5ff1e194b6a9d73a3a9f1052 TRUE   2021-01-03 09:24:04 2021-01-03 09:25:37\n",
       "  role     signUpSource state\n",
       "1 consumer Email        WI   \n",
       "2 consumer Email        WI   \n",
       "3 consumer Email        WI   \n",
       "4 consumer Email        WI   \n",
       "5 consumer Email        WI   \n",
       "6 consumer Email        WI   "
      ]
     },
     "metadata": {},
     "output_type": "display_data"
    }
   ],
   "source": [
    "users$'_id' <- flatten(users$'_id')\n",
    "\n",
    "users <- tibble(users)\n",
    "head(users)"
   ]
  },
  {
   "cell_type": "code",
   "execution_count": 124,
   "id": "0c566297",
   "metadata": {},
   "outputs": [],
   "source": [
    "#write.csv(brands, \"brands.csv\", row.names=TRUE)\n",
    "#write.csv(receipts, \"receipts.csv\", row.names=TRUE)\n",
    "#write.csv(users, \"users.csv\", row.names=TRUE)"
   ]
  },
  {
   "cell_type": "markdown",
   "id": "70b117c3",
   "metadata": {},
   "source": [
    "Okay I definitely felt my soul leave my body while I figured out how to parse the JSON files. But the rest *should* be easy..."
   ]
  },
  {
   "cell_type": "code",
   "execution_count": null,
   "id": "0c9ef8b6",
   "metadata": {},
   "outputs": [],
   "source": []
  }
 ],
 "metadata": {
  "celltoolbar": "Edit Metadata",
  "kernelspec": {
   "display_name": "R",
   "language": "R",
   "name": "ir"
  },
  "language_info": {
   "codemirror_mode": "r",
   "file_extension": ".r",
   "mimetype": "text/x-r-source",
   "name": "R",
   "pygments_lexer": "r",
   "version": "4.2.0"
  }
 },
 "nbformat": 4,
 "nbformat_minor": 5
}
